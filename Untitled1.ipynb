{
 "cells": [
  {
   "cell_type": "markdown",
   "id": "3b46351e",
   "metadata": {},
   "source": [
    "#### Wyznaczenie wszystkich wartości własnych macierzy A za pomocą metody rozkładu QR. W metodzie tej należy dokonać rozkładu macierzy A = Q · R. tj na iloczyn macierzy unitarnej Q i macierzy trójkątnej górnej R (str. 287). Porównanie efektywności wyznaczania dominującej wartości własnej za pomocą metody rozkładu QR i metody potęgowe"
   ]
  },
  {
   "cell_type": "code",
   "execution_count": 1,
   "id": "9d81afe9",
   "metadata": {},
   "outputs": [],
   "source": [
    "import numpy as np\n",
    "import uklad\n",
    "import potegowa"
   ]
  },
  {
   "cell_type": "code",
   "execution_count": 2,
   "id": "b608bd16",
   "metadata": {},
   "outputs": [],
   "source": [
    "def gram_schmidt(A):\n",
    "    A = A.astype(float)\n",
    "    m,n = A.shape\n",
    "    V=A.copy()\n",
    "    Q=A.copy()\n",
    "    R=np.zeros([n,n])\n",
    "    for j in range(0,n):\n",
    "        for i in range(0,j):\n",
    "            R[i,j]=Q[:,i].T@A[:,j]\n",
    "            V[:,j]=V[:,j]-R[i,j]*Q[:,i]\n",
    "        R[j,j]=np.linalg.norm(V[:,j])\n",
    "        Q[:,j]=V[:,j]/R[j,j]    \n",
    "    return Q,R"
   ]
  },
  {
   "cell_type": "markdown",
   "id": "a1805728",
   "metadata": {},
   "source": [
    "Dodatkowo chcemy,aby elemnty przekątniowe macierzy R były nie ujemne.Jesli rozklad nie ma tej wlasnosci (552(Str 305+)), to okreslamy macierz unitarną przekątniową D tak że $ d_{ii} := r_{ii} / |r_{ii}| $ dla $ r_{ii} \\neq 0 $ i $ d_{ii} := 1$ w przeciwnym razie i zamiast (552) stosujemy rozklad $$ A = (QD)(D^HR) = \\hat{Q}\\hat{R} $$"
   ]
  },
  {
   "cell_type": "code",
   "execution_count": 4,
   "id": "c1f4aaa3",
   "metadata": {},
   "outputs": [
    {
     "data": {
      "text/plain": [
       "(array([[ 0.85714286, -0.39428571, -0.33142857],\n",
       "        [ 0.42857143,  0.90285714,  0.03428571],\n",
       "        [-0.28571429,  0.17142857, -0.94285714]]),\n",
       " array([[ 14.,  21., -14.],\n",
       "        [  0., 175., -70.],\n",
       "        [  0.,   0.,  35.]]),\n",
       " array([[ 12., -51.,   4.],\n",
       "        [  6., 167., -68.],\n",
       "        [ -4.,  24., -41.]]),\n",
       " array([ 14., 175.,  35.]))"
      ]
     },
     "execution_count": 4,
     "metadata": {},
     "output_type": "execute_result"
    }
   ],
   "source": [
    "A = np.array([[1,2],[3,4]])\n",
    "A = np.array([[12, -51, 4], [6, 167, -68], [-4, 24, -41]])\n",
    "q,r = gram_schmidt(A)\n",
    "q,r,q@r,np.diag(q.T@A)"
   ]
  },
  {
   "cell_type": "code",
   "execution_count": null,
   "id": "0a4117ef",
   "metadata": {},
   "outputs": [],
   "source": []
  },
  {
   "cell_type": "code",
   "execution_count": 5,
   "id": "6f176a71",
   "metadata": {},
   "outputs": [
    {
     "name": "stdout",
     "output_type": "stream",
     "text": [
      "l(1) = [16.33333333], \t y(1) = [1. 1. 1.]\n",
      "l(2) = [59.44444444], \t y(2) = [-35. 105. -21.]\n",
      "l(3) = [139.55727289], \t y(3) = [-5859. 18753.  3521.]\n",
      "l(4) = [163.75900323], \t y(4) = [-1012627.  2857169.   329147.]\n",
      "l(5) = [154.77357244], \t y(5) = [-1.56550555e+08  4.48689465e+08  5.91275370e+07]\n",
      "l(6) = [156.45307818], \t y(6) = [-2.45252592e+10  6.99711648e+10  8.97052036e+09]\n",
      "l(7) = [156.06871232], \t y(7) = [-3.82695043e+12  1.09280376e+13  1.40961766e+12]\n",
      "l(8) = [156.1516812], \t y(8) = [-5.97614851e+14  1.70616657e+15  2.19786380e+14]\n",
      "l(9) = [156.13340952], \t y(9) = [-9.33067279e+16  2.66398655e+17  3.43272156e+16]\n",
      "l(10) = [156.13740222], \t y(10) = [-1.45687033e+19  4.15944843e+19  5.35937879e+18]\n"
     ]
    },
    {
     "data": {
      "text/plain": [
       "(array([[ 0.85714286, -0.39428571, -0.33142857],\n",
       "        [ 0.42857143,  0.90285714,  0.03428571],\n",
       "        [-0.28571429,  0.17142857, -0.94285714]]),\n",
       " array([[ 14.,  21., -14.],\n",
       "        [  0., 175., -70.],\n",
       "        [  0.,   0.,  35.]]))"
      ]
     },
     "execution_count": 5,
     "metadata": {},
     "output_type": "execute_result"
    }
   ],
   "source": [
    "A = np.array([[12, -51, 4], [6, 167, -68], [-4, 24, -41]])\n",
    "u1 =uklad.Uklad()\n",
    "u1.losuj_uklad()\n",
    "u1.zadaj_uklad(macierz = A,wektor = np.array([0,0,0]))\n",
    "\n",
    "p1 = potegowa.Potegowa(u1)\n",
    "p1.iteruj(iteracje = 10,wyswietlaj = 1)\n",
    "q,r = gram_schmidt(u1.A)\n",
    "q,r\n"
   ]
  },
  {
   "cell_type": "code",
   "execution_count": null,
   "id": "bb09f61a",
   "metadata": {},
   "outputs": [],
   "source": []
  }
 ],
 "metadata": {
  "kernelspec": {
   "display_name": "Python 3 (ipykernel)",
   "language": "python",
   "name": "python3"
  },
  "language_info": {
   "codemirror_mode": {
    "name": "ipython",
    "version": 3
   },
   "file_extension": ".py",
   "mimetype": "text/x-python",
   "name": "python",
   "nbconvert_exporter": "python",
   "pygments_lexer": "ipython3",
   "version": "3.10.8"
  }
 },
 "nbformat": 4,
 "nbformat_minor": 5
}
