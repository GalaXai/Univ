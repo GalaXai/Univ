{
 "cells": [
  {
   "cell_type": "code",
   "execution_count": 1,
   "metadata": {},
   "outputs": [
    {
     "name": "stdout",
     "output_type": "stream",
     "text": [
      "Redbull o smaku iceberry, ma kolor puszki light blue, moja ocenta to 70\n",
      "Redbull o smaku watermelon, ma kolor puszki red, moja ocenta to 80\n",
      "Redbull o smaku blueberry, ma kolor puszki blue, moja ocenta to 70\n",
      "Średnia ocena 73.3\n"
     ]
    }
   ],
   "source": [
    "class Redbull:\n",
    "    def __init__(self, flavor, color, score):\n",
    "        self.flavor = flavor\n",
    "        self.color = color\n",
    "        self.score = score\n",
    "\n",
    "    def addRedbull(self):\n",
    "        listR.append(self)\n",
    "\n",
    "    def printList():\n",
    "        for x in listR:\n",
    "            print(\"Redbull o smaku {}, ma kolor puszki {}, moja ocenta to {}\".format(\n",
    "                x.flavor, x.color, x.score))\n",
    "\n",
    "    def averageScore():\n",
    "        sum = 0\n",
    "        for x in listR:\n",
    "            sum += x.score\n",
    "        wynik = sum/listR.__len__()\n",
    "        print(\"Średnia ocena {:.1f}\".format(wynik))\n",
    "\n",
    "\n",
    "listR = []\n",
    "watermelon = Redbull(\"watermelon\", \"red\", 80)\n",
    "winteredition = Redbull(\"iceberry\", \"light blue\", 70)\n",
    "blueberry = Redbull(\"blueberry\", \"blue\", 70)\n",
    "\n",
    "\n",
    "Redbull.addRedbull(winteredition)\n",
    "Redbull.addRedbull(watermelon)\n",
    "Redbull.addRedbull(blueberry)\n",
    "Redbull.printList()\n",
    "Redbull.averageScore()"
   ]
  }
 ],
 "metadata": {
  "interpreter": {
   "hash": "c10a52315a685036680bebbbb4a4dfe4b51723dee12dc74e1a85ab635e6efbd0"
  },
  "kernelspec": {
   "display_name": "Python 3.10.0 64-bit",
   "language": "python",
   "name": "python3"
  },
  "language_info": {
   "codemirror_mode": {
    "name": "ipython",
    "version": 3
   },
   "file_extension": ".py",
   "mimetype": "text/x-python",
   "name": "python",
   "nbconvert_exporter": "python",
   "pygments_lexer": "ipython3",
   "version": "3.10.0"
  },
  "orig_nbformat": 4
 },
 "nbformat": 4,
 "nbformat_minor": 2
}
