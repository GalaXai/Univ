{
 "cells": [
  {
   "cell_type": "code",
   "execution_count": null,
   "metadata": {},
   "outputs": [],
   "source": [
    "class Redbull:\n",
    "    def __init__(self, flavor, color, score):\n",
    "        self.flavor = flavor\n",
    "        self.color = color\n",
    "        self.score = score\n",
    "\n",
    "    def addRedbull(self):\n",
    "        listR.append(self)\n",
    "\n",
    "    def printList():\n",
    "        for x in listR:\n",
    "            print(\"Redbull o smaku {}, ma kolor puszki {}, moja ocenta to {}\".format(\n",
    "                x.flavor, x.color, x.score))\n",
    "\n",
    "    def averageScore():\n",
    "        sum = 0\n",
    "        for x in listR:\n",
    "            sum += x.score\n",
    "        wynik = sum/listR.__len__()\n",
    "        print(\"Średnia ocena {:.1f}\".format(wynik))\n",
    "\n",
    "\n",
    "listR = []\n",
    "watermelon = Redbull(\"watermelon\", \"red\", 80)\n",
    "winteredition = Redbull(\"iceberry\", \"light blue\", 70)\n",
    "blueberry = Redbull(\"blueberry\", \"blue\", 70)\n",
    "\n",
    "\n",
    "Redbull.addRedbull(winteredition)\n",
    "Redbull.addRedbull(watermelon)\n",
    "Redbull.addRedbull(blueberry)\n",
    "Redbull.printList()\n",
    "Redbull.averageScore()"
   ]
  }
 ],
 "metadata": {
  "language_info": {
   "name": "python"
  },
  "orig_nbformat": 4
 },
 "nbformat": 4,
 "nbformat_minor": 2
}
