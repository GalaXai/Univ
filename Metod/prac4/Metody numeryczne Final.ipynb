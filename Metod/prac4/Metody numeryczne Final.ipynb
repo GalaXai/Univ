{
 "cells": [
  {
   "cell_type": "markdown",
   "metadata": {},
   "source": [
    "# Importing Libraries"
   ]
  },
  {
   "cell_type": "code",
   "execution_count": 1,
   "metadata": {
    "collapsed": true
   },
   "outputs": [],
   "source": [
    "import numpy as np\n",
    "import uklad\n",
    "import potegowa"
   ]
  },
  {
   "cell_type": "code",
   "execution_count": 3,
   "metadata": {},
   "outputs": [],
   "source": [
    "def gram_schmidt(matrix):\n",
    "    matrix = matrix.astype(float) # Convert the input matrix to float type\n",
    "    n = matrix.shape[0] # Get the number of rows in the matrix\n",
    "    V = matrix.copy()\n",
    "    Q = matrix.copy() # Vector\n",
    "    R = np.zeros([n, n]) # Create a zero matrix with shape (n, n)\n",
    "    for j in range(0, n):\n",
    "        for i in range(0, j):\n",
    "            R[i, j] = Q[:, i].T @ matrix[:, j] # Calculate dot product between the transpose of Q[:, i] and matrix[:, j]\n",
    "            V[:, j] = V[:, j] - R[i, j] * Q[:, i] # Subtract the product of R[i, j] and Q[:, i] from V[:, j]\n",
    "        R[j, j] = np.linalg.norm(V[:, j]) # Sets diagonal to norm of V[Column] matrix\n",
    "        Q[:, j] = V[:, j] / R[j, j] # Divide Column by\n",
    "    return Q,R"
   ]
  },
  {
   "cell_type": "markdown",
   "metadata": {},
   "source": [
    "Sprawdzenie czy A = Q * R jest spełnione"
   ]
  },
  {
   "cell_type": "code",
   "execution_count": 7,
   "metadata": {},
   "outputs": [
    {
     "data": {
      "text/plain": [
       "(array([[ 12., -51.,   4.],\n",
       "        [  6., 167., -68.],\n",
       "        [ -4.,  24., -41.]]),\n",
       " array([[ 12., -51.,   4.],\n",
       "        [  6., 167., -68.],\n",
       "        [ -4.,  24., -41.]]))"
      ]
     },
     "execution_count": 7,
     "metadata": {},
     "output_type": "execute_result"
    }
   ],
   "source": [
    "A = np.array([[12, -51, 4], [6, 167, -68], [-4, 24, -41]])\n",
    "q,r = gram_schmidt(A)\n",
    "A.astype(float) , q@r"
   ]
  },
  {
   "cell_type": "code",
   "execution_count": 9,
   "metadata": {},
   "outputs": [],
   "source": [
    "def eig_qr(matrix, eps=2e-10):\n",
    "    \"\"\"\n",
    "    Compute the eigenvalues of a matrix using the QR algorithm without shifts.\n",
    "\n",
    "    Parameters:\n",
    "        matrix (np.ndarray): The input matrix.\n",
    "        eps (float): The tolerance level for checking convergence (default is 2e-10).\n",
    "\n",
    "    Returns:\n",
    "        tuple: A tuple of two elements: the eigenvalues and the number of iterations.\n",
    "    \"\"\"\n",
    "    it = 0\n",
    "    n = matrix.shape[0]\n",
    "    # Convert the matrix to upper Hessenberg form (lower triangular part is ignored)\n",
    "    matrix = np.tril(matrix, -1) + np.triu(matrix)\n",
    "    # Initialize k (index of the sub-matrix to work on)\n",
    "    k = n\n",
    "    while k > 1:\n",
    "        # Check if the sub-matrix is almost upper triangular\n",
    "        if abs(matrix[k - 1][k - 2]) <= 2 * eps * (abs(matrix[k - 2][k - 2]) + abs(matrix[k - 1][k - 1])):\n",
    "            matrix[k - 1][k - 2] = 0\n",
    "            k = k - 2\n",
    "        elif abs(matrix[k - 1][k - 2]) <= 2 * eps * (abs(matrix[k - 1][k - 1]) + abs(matrix[k - 1][k - 1])):\n",
    "            matrix[k - 1][k - 2] = 0\n",
    "            k = k - 1\n",
    "        else:\n",
    "            # If the iteration count reaches the maximum, return an empty list\n",
    "            if it >= 1000 * n:\n",
    "                return [], []\n",
    "\n",
    "            # Compute the QR decomposition of the sub-matrix\n",
    "            Q, R = gram_schmidt(matrix[:k, :k])\n",
    "            # Rebuild the Hessenberg matrix using the QR decomposition\n",
    "            matrix[:k, :k] = R @ Q\n",
    "            it = it + 1\n",
    "    eigen_values = np.diagonal(matrix)\n",
    "    return eigen_values, it"
   ]
  },
  {
   "cell_type": "markdown",
   "metadata": {},
   "source": [
    "Porowanienie Metody QR z metodą potęgowa."
   ]
  },
  {
   "cell_type": "code",
   "execution_count": 12,
   "metadata": {},
   "outputs": [
    {
     "name": "stdout",
     "output_type": "stream",
     "text": [
      "Ilość iteracji metodą qr: 31\n",
      "Ilość iteracji metodą potęgową: 22\n"
     ]
    }
   ],
   "source": [
    "A = np.array([[12, -51, 4], [6, 167, -68], [-4, 24, -41]])\n",
    "u1 =uklad.Uklad()\n",
    "u1.losuj_uklad()\n",
    "u1.zadaj_uklad(macierz = A,wektor = np.array([0,0,0]))\n",
    "\n",
    "p1 = potegowa.Potegowa(u1)\n",
    "iter_potegowa = p1.iteruj_roznica(eps=2e-10,wyswietlaj = 0)\n",
    "q,r = gram_schmidt(u1.A)\n",
    "eigens,iter_qr = eig_qr(r @ q)\n",
    "print(\"Ilość iteracji metodą qr:\", iter_qr)\n",
    "print(\"Ilość iteracji metodą potęgową:\" , iter_potegowa)"
   ]
  },
  {
   "cell_type": "markdown",
   "metadata": {},
   "source": [
    "Wykresy ..."
   ]
  }
 ],
 "metadata": {
  "kernelspec": {
   "display_name": "Python 3 (ipykernel)",
   "language": "python",
   "name": "python3"
  },
  "language_info": {
   "codemirror_mode": {
    "name": "ipython",
    "version": 3
   },
   "file_extension": ".py",
   "mimetype": "text/x-python",
   "name": "python",
   "nbconvert_exporter": "python",
   "pygments_lexer": "ipython3",
   "version": "3.10.5"
  }
 },
 "nbformat": 4,
 "nbformat_minor": 1
}
