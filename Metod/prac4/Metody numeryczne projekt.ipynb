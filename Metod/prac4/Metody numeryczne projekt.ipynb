{
 "cells": [
  {
   "cell_type": "markdown",
   "id": "3b46351e",
   "metadata": {},
   "source": [
    "### Title"
   ]
  },
  {
   "cell_type": "code",
   "execution_count": 2,
   "id": "9d81afe9",
   "metadata": {},
   "outputs": [],
   "source": [
    "import numpy as np\n",
    "import uklad\n",
    "import potegowa"
   ]
  },
  {
   "cell_type": "code",
   "execution_count": 3,
   "id": "b608bd16",
   "metadata": {},
   "outputs": [
    {
     "data": {
      "text/plain": "(array([[ 0.85714286, -0.39428571, -0.33142857],\n        [ 0.42857143,  0.90285714,  0.03428571],\n        [-0.28571429,  0.17142857, -0.94285714]]),\n array([[ 14.,  21., -14.],\n        [  0., 175., -70.],\n        [  0.,   0.,  35.]]))"
     },
     "execution_count": 3,
     "metadata": {},
     "output_type": "execute_result"
    }
   ],
   "source": [
    "def gram_schmidt(matrix):\n",
    "    matrix = matrix.astype(float)\n",
    "    n = matrix.shape[0]\n",
    "    V=matrix.copy() #\n",
    "    Q=matrix.copy() # Wektor\n",
    "    R=np.zeros([n,n])\n",
    "    for j in range(0,n):\n",
    "        for i in range(0,j):\n",
    "            R[i,j]=Q[:,i].T @ matrix[:, j] # vector @ Column\n",
    "            V[:,j]=V[:,j]-R[i,j]*Q[:,i] # R[i,j] @ VECTOR\n",
    "        R[j,j]=np.linalg.norm(V[:,j]) # Sets diag to norm of V[Column] matrix\n",
    "        Q[:,j]=V[:,j]/R[j,j] #Dzielenie Kolumny przez norme kolumny\n",
    "    return Q,R\n",
    "\n",
    "A = np.array([[12, -51, 4], [6, 167, -68], [-4, 24, -41]])\n",
    "gram_schmidt(A)"
   ]
  },
  {
   "cell_type": "markdown",
   "id": "08f82aff",
   "metadata": {},
   "source": [
    "Sprawdzenie czy A = Q * R jest spełnione"
   ]
  },
  {
   "cell_type": "code",
   "execution_count": 4,
   "id": "f6f10a6a",
   "metadata": {},
   "outputs": [
    {
     "data": {
      "text/plain": "(array([[ 0.85714286, -0.39428571, -0.33142857],\n        [ 0.42857143,  0.90285714,  0.03428571],\n        [-0.28571429,  0.17142857, -0.94285714]]),\n array([[ 14.,  21., -14.],\n        [  0., 175., -70.],\n        [  0.,   0.,  35.]]),\n array([[ 12., -51.,   4.],\n        [  6., 167., -68.],\n        [ -4.,  24., -41.]]),\n array([ 14., 175.,  35.]))"
     },
     "execution_count": 4,
     "metadata": {},
     "output_type": "execute_result"
    }
   ],
   "source": [
    "A = np.array([[12, -51, 4], [6, 167, -68], [-4, 24, -41]])\n",
    "q,r = gram_schmidt(A)\n",
    "q,r,q@r,np.diag(q.T@A)"
   ]
  },
  {
   "cell_type": "markdown",
   "id": "a1805728",
   "metadata": {},
   "source": []
  },
  {
   "cell_type": "code",
   "execution_count": 5,
   "id": "0a4117ef",
   "metadata": {},
   "outputs": [
    {
     "ename": "KeyboardInterrupt",
     "evalue": "",
     "output_type": "error",
     "traceback": [
      "\u001B[1;31m---------------------------------------------------------------------------\u001B[0m",
      "\u001B[1;31mKeyboardInterrupt\u001B[0m                         Traceback (most recent call last)",
      "Input \u001B[1;32mIn [5]\u001B[0m, in \u001B[0;36m<cell line: 23>\u001B[1;34m()\u001B[0m\n\u001B[0;32m     19\u001B[0m     eigens_values \u001B[38;5;241m=\u001B[39m np\u001B[38;5;241m.\u001B[39mdiagonal(matrix)\n\u001B[0;32m     20\u001B[0m     \u001B[38;5;28;01mreturn\u001B[39;00m eigens_values, it\n\u001B[1;32m---> 23\u001B[0m a,b  \u001B[38;5;241m=\u001B[39m \u001B[43meig_qr0\u001B[49m\u001B[43m(\u001B[49m\u001B[43mr\u001B[49m\u001B[43m \u001B[49m\u001B[38;5;241;43m@\u001B[39;49m\u001B[43m \u001B[49m\u001B[43mq\u001B[49m\u001B[43m)\u001B[49m \u001B[38;5;66;03m#\u001B[39;00m\n\u001B[0;32m     24\u001B[0m a,b\n",
      "Input \u001B[1;32mIn [5]\u001B[0m, in \u001B[0;36meig_qr0\u001B[1;34m(matrix, eps)\u001B[0m\n\u001B[0;32m      4\u001B[0m matrix \u001B[38;5;241m=\u001B[39m np\u001B[38;5;241m.\u001B[39mtril(matrix, \u001B[38;5;241m-\u001B[39m\u001B[38;5;241m1\u001B[39m) \u001B[38;5;241m+\u001B[39m np\u001B[38;5;241m.\u001B[39mtriu(matrix) \u001B[38;5;66;03m#-1 so we don't get numbers on diag\u001B[39;00m\n\u001B[0;32m      5\u001B[0m k \u001B[38;5;241m=\u001B[39m n\n\u001B[1;32m----> 6\u001B[0m \u001B[38;5;28;01mwhile\u001B[39;00m \u001B[38;5;28;01mTrue\u001B[39;00m:\u001B[38;5;66;03m# Matrix[row][column]\u001B[39;00m\n\u001B[0;32m      7\u001B[0m     \u001B[38;5;28;01mif\u001B[39;00m \u001B[38;5;28mabs\u001B[39m(matrix[k \u001B[38;5;241m-\u001B[39m \u001B[38;5;241m1\u001B[39m][k \u001B[38;5;241m-\u001B[39m \u001B[38;5;241m2\u001B[39m]) \u001B[38;5;241m<\u001B[39m\u001B[38;5;241m=\u001B[39m \u001B[38;5;241m2\u001B[39m \u001B[38;5;241m*\u001B[39m eps \u001B[38;5;241m*\u001B[39m (\u001B[38;5;28mabs\u001B[39m(matrix[k \u001B[38;5;241m-\u001B[39m \u001B[38;5;241m2\u001B[39m][k \u001B[38;5;241m-\u001B[39m \u001B[38;5;241m2\u001B[39m]) \u001B[38;5;241m+\u001B[39m \u001B[38;5;28mabs\u001B[39m(matrix[k \u001B[38;5;241m-\u001B[39m \u001B[38;5;241m1\u001B[39m][k \u001B[38;5;241m-\u001B[39m \u001B[38;5;241m1\u001B[39m])):\n\u001B[0;32m      8\u001B[0m         matrix[k \u001B[38;5;241m-\u001B[39m \u001B[38;5;241m1\u001B[39m][k \u001B[38;5;241m-\u001B[39m \u001B[38;5;241m2\u001B[39m] \u001B[38;5;241m=\u001B[39m \u001B[38;5;241m0\u001B[39m\n",
      "Input \u001B[1;32mIn [5]\u001B[0m, in \u001B[0;36meig_qr0\u001B[1;34m(matrix, eps)\u001B[0m\n\u001B[0;32m      4\u001B[0m matrix \u001B[38;5;241m=\u001B[39m np\u001B[38;5;241m.\u001B[39mtril(matrix, \u001B[38;5;241m-\u001B[39m\u001B[38;5;241m1\u001B[39m) \u001B[38;5;241m+\u001B[39m np\u001B[38;5;241m.\u001B[39mtriu(matrix) \u001B[38;5;66;03m#-1 so we don't get numbers on diag\u001B[39;00m\n\u001B[0;32m      5\u001B[0m k \u001B[38;5;241m=\u001B[39m n\n\u001B[1;32m----> 6\u001B[0m \u001B[38;5;28;01mwhile\u001B[39;00m \u001B[38;5;28;01mTrue\u001B[39;00m:\u001B[38;5;66;03m# Matrix[row][column]\u001B[39;00m\n\u001B[0;32m      7\u001B[0m     \u001B[38;5;28;01mif\u001B[39;00m \u001B[38;5;28mabs\u001B[39m(matrix[k \u001B[38;5;241m-\u001B[39m \u001B[38;5;241m1\u001B[39m][k \u001B[38;5;241m-\u001B[39m \u001B[38;5;241m2\u001B[39m]) \u001B[38;5;241m<\u001B[39m\u001B[38;5;241m=\u001B[39m \u001B[38;5;241m2\u001B[39m \u001B[38;5;241m*\u001B[39m eps \u001B[38;5;241m*\u001B[39m (\u001B[38;5;28mabs\u001B[39m(matrix[k \u001B[38;5;241m-\u001B[39m \u001B[38;5;241m2\u001B[39m][k \u001B[38;5;241m-\u001B[39m \u001B[38;5;241m2\u001B[39m]) \u001B[38;5;241m+\u001B[39m \u001B[38;5;28mabs\u001B[39m(matrix[k \u001B[38;5;241m-\u001B[39m \u001B[38;5;241m1\u001B[39m][k \u001B[38;5;241m-\u001B[39m \u001B[38;5;241m1\u001B[39m])):\n\u001B[0;32m      8\u001B[0m         matrix[k \u001B[38;5;241m-\u001B[39m \u001B[38;5;241m1\u001B[39m][k \u001B[38;5;241m-\u001B[39m \u001B[38;5;241m2\u001B[39m] \u001B[38;5;241m=\u001B[39m \u001B[38;5;241m0\u001B[39m\n",
      "File \u001B[1;32m_pydevd_bundle\\pydevd_cython_win32_310_64.pyx:1179\u001B[0m, in \u001B[0;36m_pydevd_bundle.pydevd_cython_win32_310_64.SafeCallWrapper.__call__\u001B[1;34m()\u001B[0m\n",
      "File \u001B[1;32m_pydevd_bundle\\pydevd_cython_win32_310_64.pyx:620\u001B[0m, in \u001B[0;36m_pydevd_bundle.pydevd_cython_win32_310_64.PyDBFrame.trace_dispatch\u001B[1;34m()\u001B[0m\n",
      "File \u001B[1;32m_pydevd_bundle\\pydevd_cython_win32_310_64.pyx:929\u001B[0m, in \u001B[0;36m_pydevd_bundle.pydevd_cython_win32_310_64.PyDBFrame.trace_dispatch\u001B[1;34m()\u001B[0m\n",
      "File \u001B[1;32m_pydevd_bundle\\pydevd_cython_win32_310_64.pyx:920\u001B[0m, in \u001B[0;36m_pydevd_bundle.pydevd_cython_win32_310_64.PyDBFrame.trace_dispatch\u001B[1;34m()\u001B[0m\n",
      "File \u001B[1;32m_pydevd_bundle\\pydevd_cython_win32_310_64.pyx:317\u001B[0m, in \u001B[0;36m_pydevd_bundle.pydevd_cython_win32_310_64.PyDBFrame.do_wait_suspend\u001B[1;34m()\u001B[0m\n",
      "File \u001B[1;32mC:\\Program Files\\JetBrains\\PyCharm 2022.1.3\\plugins\\python\\helpers\\pydev\\pydevd.py:1160\u001B[0m, in \u001B[0;36mPyDB.do_wait_suspend\u001B[1;34m(self, thread, frame, event, arg, send_suspend_message, is_unhandled_exception)\u001B[0m\n\u001B[0;32m   1157\u001B[0m         from_this_thread\u001B[38;5;241m.\u001B[39mappend(frame_id)\n\u001B[0;32m   1159\u001B[0m \u001B[38;5;28;01mwith\u001B[39;00m \u001B[38;5;28mself\u001B[39m\u001B[38;5;241m.\u001B[39m_threads_suspended_single_notification\u001B[38;5;241m.\u001B[39mnotify_thread_suspended(thread_id, stop_reason):\n\u001B[1;32m-> 1160\u001B[0m     \u001B[38;5;28;43mself\u001B[39;49m\u001B[38;5;241;43m.\u001B[39;49m\u001B[43m_do_wait_suspend\u001B[49m\u001B[43m(\u001B[49m\u001B[43mthread\u001B[49m\u001B[43m,\u001B[49m\u001B[43m \u001B[49m\u001B[43mframe\u001B[49m\u001B[43m,\u001B[49m\u001B[43m \u001B[49m\u001B[43mevent\u001B[49m\u001B[43m,\u001B[49m\u001B[43m \u001B[49m\u001B[43marg\u001B[49m\u001B[43m,\u001B[49m\u001B[43m \u001B[49m\u001B[43msuspend_type\u001B[49m\u001B[43m,\u001B[49m\u001B[43m \u001B[49m\u001B[43mfrom_this_thread\u001B[49m\u001B[43m)\u001B[49m\n",
      "File \u001B[1;32mC:\\Program Files\\JetBrains\\PyCharm 2022.1.3\\plugins\\python\\helpers\\pydev\\pydevd.py:1175\u001B[0m, in \u001B[0;36mPyDB._do_wait_suspend\u001B[1;34m(self, thread, frame, event, arg, suspend_type, from_this_thread)\u001B[0m\n\u001B[0;32m   1172\u001B[0m             \u001B[38;5;28mself\u001B[39m\u001B[38;5;241m.\u001B[39m_call_mpl_hook()\n\u001B[0;32m   1174\u001B[0m         \u001B[38;5;28mself\u001B[39m\u001B[38;5;241m.\u001B[39mprocess_internal_commands()\n\u001B[1;32m-> 1175\u001B[0m         \u001B[43mtime\u001B[49m\u001B[38;5;241;43m.\u001B[39;49m\u001B[43msleep\u001B[49m\u001B[43m(\u001B[49m\u001B[38;5;241;43m0.01\u001B[39;49m\u001B[43m)\u001B[49m\n\u001B[0;32m   1177\u001B[0m \u001B[38;5;28mself\u001B[39m\u001B[38;5;241m.\u001B[39mcancel_async_evaluation(get_current_thread_id(thread), \u001B[38;5;28mstr\u001B[39m(\u001B[38;5;28mid\u001B[39m(frame)))\n\u001B[0;32m   1179\u001B[0m \u001B[38;5;66;03m# process any stepping instructions\u001B[39;00m\n",
      "\u001B[1;31mKeyboardInterrupt\u001B[0m: "
     ]
    }
   ],
   "source": [
    "def eig_qr0(matrix, eps=2e-10):\n",
    "    it = 0\n",
    "    n = matrix.shape[0]\n",
    "    matrix = np.tril(matrix, -1) + np.triu(matrix) #-1 so we don't get numbers on diag\n",
    "    k = n\n",
    "    while True:# Matrix[row][column]\n",
    "        if abs(matrix[k - 1][k - 2]) <= 2 * eps * (abs(matrix[k - 2][k - 2]) + abs(matrix[k - 1][k - 1])):\n",
    "            matrix[k - 1][k - 2] = 0\n",
    "            k = k - 2\n",
    "        elif abs(matrix[k - 1][k - 2]) <= 2 * eps * (abs(matrix[k - 1][k - 1]) + abs(matrix[k - 1][k - 1])):\n",
    "            matrix[k - 1][k - 2] = 0\n",
    "            k = k - 1\n",
    "        else:\n",
    "            if it >= 1000 * n:\n",
    "                return [], []\n",
    "            Q, R = gram_schmidt(matrix[:k, :k]) # QR decomposition on k x k Matrix\n",
    "            matrix[:k, :k] = R @ Q # Rebuilding Hessenberg matrix\n",
    "            it = it + 1\n",
    "    eigens_values = np.diagonal(matrix)\n",
    "    return eigens_values, it\n",
    "\n",
    "\n",
    "a,b  = eig_qr0(r @ q) #\n",
    "a,b"
   ]
  },
  {
   "cell_type": "markdown",
   "id": "e430f99a",
   "metadata": {},
   "source": [
    "Porowanienie Metod"
   ]
  },
  {
   "cell_type": "code",
   "execution_count": 15,
   "id": "6f176a71",
   "metadata": {},
   "outputs": [
    {
     "name": "stdout",
     "output_type": "stream",
     "text": [
      "[156.13668406  16.05999094 -34.196675  ] 31 22 156.13668406196882\n"
     ]
    }
   ],
   "source": [
    "A = np.array([[12, -51, 4], [6, 167, -68], [-4, 24, -41]])\n",
    "u1 =uklad.Uklad()\n",
    "u1.losuj_uklad()\n",
    "u1.zadaj_uklad(macierz = A,wektor = np.array([0,0,0]))\n",
    "\n",
    "p1 = potegowa.Potegowa(u1)\n",
    "iter_potegowa = p1.iteruj_roznica(eps=2e-10,wyswietlaj = 0)\n",
    "q,r = gram_schmidt(u1.A)\n",
    "eigens,iter_qr = eig_qr0(r @ q)\n",
    "print(np.linalg.eigvals(A),iter_qr,iter_potegowa,np.max(eigens))"
   ]
  },
  {
   "cell_type": "code",
   "execution_count": 6,
   "outputs": [
    {
     "data": {
      "text/plain": "array([156.13668406,  16.05999094, -34.196675  ])"
     },
     "execution_count": 6,
     "metadata": {},
     "output_type": "execute_result"
    }
   ],
   "source": [
    "np.linalg.eigvals(A)"
   ],
   "metadata": {
    "collapsed": false
   }
  },
  {
   "cell_type": "code",
   "execution_count": null,
   "outputs": [],
   "source": [],
   "metadata": {
    "collapsed": false
   }
  }
 ],
 "metadata": {
  "kernelspec": {
   "display_name": "Python 3 (ipykernel)",
   "language": "python",
   "name": "python3"
  },
  "language_info": {
   "codemirror_mode": {
    "name": "ipython",
    "version": 3
   },
   "file_extension": ".py",
   "mimetype": "text/x-python",
   "name": "python",
   "nbconvert_exporter": "python",
   "pygments_lexer": "ipython3",
   "version": "3.10.5"
  }
 },
 "nbformat": 4,
 "nbformat_minor": 5
}
