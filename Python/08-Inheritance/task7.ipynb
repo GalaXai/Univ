{
 "cells": [
  {
   "cell_type": "code",
   "execution_count": 1,
   "metadata": {},
   "outputs": [
    {
     "name": "stdout",
     "output_type": "stream",
     "text": [
      "Sending SMS...\n",
      "From: 11122333\n",
      "To: 999888777\n",
      "Subject: Meeting on thursday\n",
      "I would like to inform you that our thursday meeting has been canceled bye\n",
      "\n",
      "Sending Email...\n",
      "From: teanj@gmial.com\n",
      "To: Qanmi@outlook.com\n",
      "Subject: Meeting on thursday\n",
      "I would like to inform you that our thursday meeting has been canceled bye\n"
     ]
    }
   ],
   "source": [
    "from mail import Mail\n",
    "from sms import SMS\n",
    "\n",
    "class sendEmail(Mail):\n",
    "   def __init__(self, Sender, Recipient):\n",
    "       super().__init__(Sender, Recipient)\n",
    "\n",
    "   def send(self):\n",
    "       return Mail.send(self)\n",
    "\n",
    "class sendSMS(SMS):\n",
    "    def __init__(self, Sender, Recipient):\n",
    "        super().__init__(Sender, Recipient)\n",
    "\n",
    "    def send(self):\n",
    "        return SMS.send(self)\n",
    "\n",
    "if __name__ == '__main__':\n",
    "    x=sendSMS(11122333,999888777)\n",
    "    x.write(\"meeting on Thursday\",\"i would like to inform you that our Thursday meeting has been canceled\")\n",
    "    x.send()\n",
    "    print()\n",
    "    y=sendEmail(\"teanj@gmial.com\",\"Qanmi@outlook.com\")\n",
    "    y.write(\"meeting on Thursday\",\"i would like to inform you that our Thursday meeting has been canceled\")\n",
    "    y.send()"
   ]
  },
  {
   "cell_type": "markdown",
   "metadata": {},
   "source": [
    "    All Classes are below"
   ]
  },
  {
   "cell_type": "code",
   "execution_count": null,
   "metadata": {},
   "outputs": [],
   "source": [
    "class Message():\n",
    "    def __init__(self):\n",
    "        self.message = ''\n",
    "    \n",
    "    def write(self,Subject,message):\n",
    "        x = message\n",
    "        x = x.capitalize()\n",
    "        self.Subject = Subject.capitalize()\n",
    "        self.message = x + \" bye\"\n",
    "\n",
    "    def __str__(self):\n",
    "        return self.message\n"
   ]
  },
  {
   "cell_type": "code",
   "execution_count": null,
   "metadata": {},
   "outputs": [],
   "source": [
    "from mes import Message\n",
    "class Mail(Message):\n",
    "    def __init__(self,Sedner,Recipient):\n",
    "        self.From = Sedner\n",
    "        self.To = Recipient\n",
    "\n",
    "    def send(self):\n",
    "        print(\"\"\"Sending Email...\\nFrom: {}\\nTo: {}\\nSubject: {}\\n{}\"\"\".format(self.From,self.To,self.Subject,self.message))\n"
   ]
  },
  {
   "cell_type": "code",
   "execution_count": null,
   "metadata": {},
   "outputs": [],
   "source": [
    "from mes import Message\n",
    "class SMS(Message):\n",
    "    def __init__(self,Sender,Recipient):\n",
    "        self.From = str(Sender)\n",
    "        self.To = str(Recipient)\n",
    "\n",
    "    def send(self):\n",
    "        print(\"\"\"Sending SMS...\\nFrom: {}\\nTo: {}\\nSubject: {}\\n{}\"\"\".format(self.From,self.To,self.Subject,self.message))\n"
   ]
  }
 ],
 "metadata": {
  "interpreter": {
   "hash": "c10a52315a685036680bebbbb4a4dfe4b51723dee12dc74e1a85ab635e6efbd0"
  },
  "kernelspec": {
   "display_name": "Python 3.10.0 64-bit",
   "language": "python",
   "name": "python3"
  },
  "language_info": {
   "codemirror_mode": {
    "name": "ipython",
    "version": 3
   },
   "file_extension": ".py",
   "mimetype": "text/x-python",
   "name": "python",
   "nbconvert_exporter": "python",
   "pygments_lexer": "ipython3",
   "version": "3.10.0"
  },
  "orig_nbformat": 4
 },
 "nbformat": 4,
 "nbformat_minor": 2
}
