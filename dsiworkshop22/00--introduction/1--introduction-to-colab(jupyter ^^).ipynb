{
 "cells": [
  {
   "cell_type": "markdown",
   "id": "da2c13b3",
   "metadata": {},
   "source": [
    "[![Open In Colab](https://colab.research.google.com/assets/colab-badge.svg)](https://githubtocolab.com/jkanclerz/data-science-workshop-2022/blob/main/00--introduction/1--introduction-to-colab.ipynb)"
   ]
  },
  {
   "cell_type": "markdown",
   "id": "809fdb89",
   "metadata": {},
   "source": []
  },
  {
   "cell_type": "markdown",
   "id": "9e36e60c",
   "metadata": {},
   "source": [
    "## Nawigacja\n",
    "\n",
    "* ``ESC`` tryb wydawania poleceń\n",
    "* ``a`` *above* dodaj komórkę na górze \n",
    "* ``b`` *below* dodaj komórkę na dole\n",
    "* ``Shift + ENTER`` uruchom + przejdz do dołu\n",
    "* ``⬆️`` w trybie poleceń przejdź do góry\n",
    "* ``⬇️`` w trybie poleceń przejdź do dołu\n",
    "#### Bonus\n",
    "* `` d+d `` Delete Cell\n",
    "* `` 0+0 `` Reset Kernel\n",
    "* `` M `` Change Cell type to Markdown\n",
    "* `` C `` Change Cell type to Code\n",
    "* `` Schift + ENTER `` uruchom\n"
   ]
  },
  {
   "cell_type": "markdown",
   "id": "30679c9c",
   "metadata": {},
   "source": [
    "## Definicja tekstu\n",
    "\n",
    "Język znaczników. Został stworzony w celu jak najbardziej uproszczonego tworzenia i formatowania tekstu\n",
    "\n",
    "[https://www.markdownguide.org/cheat-sheet/](https://www.markdownguide.org/cheat-sheet/)"
   ]
  },
  {
   "cell_type": "markdown",
   "id": "14aaf127",
   "metadata": {},
   "source": [
    "```markdown\n",
    "### Notatka 1, nagłówek 3 stopnia\n",
    "\n",
    "tresć notatki paragraf\n",
    "\n",
    "[https://uek.krakow.pl](https://uek.krakow.pl)\n",
    "\n",
    "[Uek piekna uczelnia](https://uek.krakow.pl)\n",
    "\n",
    "![obrazek ueku](https://sg-cdn.uek.krakow.pl/thumbnail/original/pages/9cbf57d5-e0eb-4902-90ea-5d1a2ec2d27d/20210520_135536.jpg, \"Uek budynek główny\")\n",
    "\n",
    "Lista:\n",
    "* a\n",
    "    * aa\n",
    "* b\n",
    "    * bb\n",
    "        * bbb\n",
    "```"
   ]
  },
  {
   "cell_type": "markdown",
   "id": "dd97d4f9",
   "metadata": {},
   "source": [
    "## Kod python"
   ]
  },
  {
   "cell_type": "code",
   "execution_count": null,
   "id": "9b3e452b",
   "metadata": {},
   "outputs": [
    {
     "name": "stdout",
     "output_type": "stream",
     "text": [
      "Hello world\n"
     ]
    }
   ],
   "source": [
    "print(\"Hello world\")"
   ]
  },
  {
   "cell_type": "code",
   "execution_count": null,
   "id": "9ff31040",
   "metadata": {},
   "outputs": [],
   "source": [
    "x = \"abc\""
   ]
  },
  {
   "cell_type": "code",
   "execution_count": null,
   "id": "5c550c87",
   "metadata": {},
   "outputs": [],
   "source": [
    "a,b,c = (1,2,3)"
   ]
  },
  {
   "cell_type": "code",
   "execution_count": null,
   "id": "b83e29b0",
   "metadata": {},
   "outputs": [
    {
     "data": {
      "text/plain": [
       "3"
      ]
     },
     "execution_count": null,
     "metadata": {},
     "output_type": "execute_result"
    }
   ],
   "source": [
    "a+b"
   ]
  },
  {
   "cell_type": "code",
   "execution_count": null,
   "id": "a4121e10",
   "metadata": {},
   "outputs": [],
   "source": [
    "assert a == 1"
   ]
  },
  {
   "cell_type": "code",
   "execution_count": null,
   "id": "7c87dd92",
   "metadata": {},
   "outputs": [
    {
     "ename": "AssertionError",
     "evalue": "",
     "output_type": "error",
     "traceback": [
      "\u001b[0;31m---------------------------------------------------------------------------\u001b[0m",
      "\u001b[0;31mAssertionError\u001b[0m                            Traceback (most recent call last)",
      "Cell \u001b[0;32mIn[12], line 1\u001b[0m\n\u001b[0;32m----> 1\u001b[0m \u001b[38;5;28;01massert\u001b[39;00m b \u001b[38;5;241m==\u001b[39m \u001b[38;5;241m1\u001b[39m\n",
      "\u001b[0;31mAssertionError\u001b[0m: "
     ]
    }
   ],
   "source": [
    "assert b == 1"
   ]
  },
  {
   "cell_type": "code",
   "execution_count": null,
   "id": "51d182ea",
   "metadata": {},
   "outputs": [],
   "source": [
    "def sum_them(digit_1, digit_2):\n",
    "    return digit_1 + digit_2"
   ]
  },
  {
   "cell_type": "code",
   "execution_count": null,
   "id": "f061cb7f",
   "metadata": {},
   "outputs": [
    {
     "data": {
      "text/plain": [
       "3"
      ]
     },
     "execution_count": null,
     "metadata": {},
     "output_type": "execute_result"
    }
   ],
   "source": [
    "sum_them(a, b)"
   ]
  },
  {
   "cell_type": "code",
   "execution_count": null,
   "id": "49279903",
   "metadata": {},
   "outputs": [],
   "source": [
    "assert sum_them(a,b) == c"
   ]
  },
  {
   "cell_type": "code",
   "execution_count": null,
   "id": "629b053b",
   "metadata": {},
   "outputs": [],
   "source": [
    "import math"
   ]
  },
  {
   "cell_type": "code",
   "execution_count": null,
   "id": "24711650",
   "metadata": {},
   "outputs": [
    {
     "data": {
      "text/plain": [
       "3.141592653589793"
      ]
     },
     "execution_count": null,
     "metadata": {},
     "output_type": "execute_result"
    }
   ],
   "source": [
    "math.pi"
   ]
  },
  {
   "cell_type": "markdown",
   "id": "b1738568",
   "metadata": {},
   "source": [
    "## Polecenia powłoki bash (CLI)\n",
    "\n",
    "* lista plików ``ls`` *list*\n",
    "* zmiana nazwy / scieżki ``mv`` *move*\n",
    "* stworzenie katalogu  ``mkdir`` *make directory*\n",
    "* nawigacja po katalogach ``cd`` *change directory*\n",
    "* usunięcie pliku / katalogu ``rm`` *remove*\n",
    "* wyświetl zawartość pliku ``cat`` *concatenate*\n",
    "\n",
    "```bash\n",
    "!mkdir -p foo/moo/boo/zoo\n",
    "!echo \"Hello world\" > foo/moo/boo/zoo/hello.txt\n",
    "!echo \"Hello world 2\" > foo/moo/boo/zoo/hello_2.txt\n",
    "!ls -l foo/moo/boo/zoo\n",
    "!cat foo/moo/boo/zoo/hello.txt\n",
    "!cat foo/moo/boo/zoo/hello.txt foo/moo/boo/zoo/hello_2.txt\n",
    "!rm -rf foo\n",
    "```"
   ]
  },
  {
   "cell_type": "markdown",
   "id": "d4ee92ab",
   "metadata": {},
   "source": [
    "## Instalacja zależności python\n",
    "\n",
    "```bash \n",
    "pip install requests\n",
    "```"
   ]
  },
  {
   "cell_type": "code",
   "execution_count": null,
   "id": "9f8c8e04",
   "metadata": {},
   "outputs": [
    {
     "name": "stdout",
     "output_type": "stream",
     "text": [
      "Requirement already satisfied: requests in /root/mambaforge/lib/python3.10/site-packages (2.28.1)\n",
      "Requirement already satisfied: urllib3<1.27,>=1.21.1 in /root/mambaforge/lib/python3.10/site-packages (from requests) (1.26.13)\n",
      "Requirement already satisfied: certifi>=2017.4.17 in /root/mambaforge/lib/python3.10/site-packages (from requests) (2022.12.7)\n",
      "Requirement already satisfied: charset-normalizer<3,>=2 in /root/mambaforge/lib/python3.10/site-packages (from requests) (2.1.1)\n",
      "Requirement already satisfied: idna<4,>=2.5 in /root/mambaforge/lib/python3.10/site-packages (from requests) (3.4)\n",
      "\u001b[33mWARNING: Running pip as the 'root' user can result in broken permissions and conflicting behaviour with the system package manager. It is recommended to use a virtual environment instead: https://pip.pypa.io/warnings/venv\u001b[0m\u001b[33m\n",
      "\u001b[0mNote: you may need to restart the kernel to use updated packages.\n"
     ]
    }
   ],
   "source": [
    "pip install requests"
   ]
  },
  {
   "cell_type": "markdown",
   "id": "97b2a2c5",
   "metadata": {},
   "source": [
    "### Bezpieczne i wesołe hasło\n",
    "[https://www.dinopass.com/](https://www.dinopass.com/)"
   ]
  },
  {
   "cell_type": "code",
   "execution_count": null,
   "id": "353be4bc",
   "metadata": {},
   "outputs": [],
   "source": [
    "import requests\n",
    "\n",
    "URL = \"https://www.dinopass.com/password/simple\""
   ]
  },
  {
   "cell_type": "code",
   "execution_count": null,
   "id": "2733e6d2",
   "metadata": {},
   "outputs": [],
   "source": [
    "response = requests.get(URL)"
   ]
  },
  {
   "cell_type": "code",
   "execution_count": null,
   "id": "7f58e94b",
   "metadata": {},
   "outputs": [
    {
     "data": {
      "text/plain": [
       "'funnyearth20'"
      ]
     },
     "execution_count": null,
     "metadata": {},
     "output_type": "execute_result"
    }
   ],
   "source": [
    "response.text"
   ]
  },
  {
   "cell_type": "code",
   "execution_count": null,
   "id": "f183a113",
   "metadata": {},
   "outputs": [],
   "source": [
    "def random_password() -> str:\n",
    "    URL = \"https://www.dinopass.com/password/simple\"\n",
    "    return requests.get(URL).text"
   ]
  },
  {
   "cell_type": "code",
   "execution_count": null,
   "id": "df4d89d2",
   "metadata": {},
   "outputs": [
    {
     "data": {
      "text/plain": [
       "'uglysteel81'"
      ]
     },
     "execution_count": null,
     "metadata": {},
     "output_type": "execute_result"
    }
   ],
   "source": [
    "random_password()"
   ]
  },
  {
   "cell_type": "markdown",
   "id": "bfea894c",
   "metadata": {},
   "source": [
    "# Zadanie 1\n",
    "Pobierz i zapisz do pliku 10 losowo wybranych dowcipów o Chacku Norisie\n",
    "Wykorzystaj: ``https://api.chucknorris.io/`` [Link](https://api.chucknorris.io/)"
   ]
  },
  {
   "cell_type": "code",
   "execution_count": null,
   "id": "54e2ae44",
   "metadata": {},
   "outputs": [
    {
     "data": {
      "text/plain": [
       "['You know the move where Scorpio removes the spine in mortal combat? Well Chuck Norris can do that to invertibrates! \\n',\n",
       " \"Chuck Norris doesn't chew gum. Chuck Norris chews tin foil. \\n\",\n",
       " \"Chuck Norris' face is on the One Billion Dollar Bill, which only he owns. \\n\",\n",
       " 'When Bruce Banner gets mad, he tuns into Hulk. When Hulk gets mad, he turns into Chuck Norris, when Chuck Norris gets mad, RUN LIKE HELL!!!!!!!!!!!!! \\n',\n",
       " 'Chuck Norris survived the atomic bombs, he still stayed as a smooth-skin. \\n',\n",
       " \"The Swine Flu got started when a pig oinked in Chuck Norris's presence. \\n\",\n",
       " 'The first title was alien vs. Predator vs. Chuck Norris , but no one wanted to see a movie that only lasted 14 seconds. \\n',\n",
       " 'Heard of a love triangle? Chuck Norris is currently involved in several love octagons. \\n',\n",
       " 'Chuck Norris invented teabagging when he was having sex with Queen Elizabeth \\n',\n",
       " 'Chuck Norris and Superman once arm wrestled. The bet was that who ever lost would have to wear his underwear over his pants - forever. \\n']"
      ]
     },
     "execution_count": null,
     "metadata": {},
     "output_type": "execute_result"
    }
   ],
   "source": [
    "## some python code\n",
    "def get_joke():\n",
    "    return requests.get(\"https://api.chucknorris.io/jokes/random\").json()[\"value\"]\n",
    "\n",
    "\n",
    "with open('jokes.txt','a') as f:\n",
    "    for _ in range(10):\n",
    "        f.write(get_joke() + ' \\n')\n",
    "open('jokes.txt').readlines()"
   ]
  }
 ],
 "metadata": {
  "kernelspec": {
   "display_name": "Python 3 (ipykernel)",
   "language": "python",
   "name": "python3"
  }
 },
 "nbformat": 4,
 "nbformat_minor": 5
}
