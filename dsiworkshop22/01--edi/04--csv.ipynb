{
 "cells": [
  {
   "cell_type": "markdown",
   "metadata": {},
   "source": [
    "[![Open In Colab](https://colab.research.google.com/assets/colab-badge.svg)](https://githubtocolab.com/jkanclerz/data-science-workshop-2022/blob/main/01--edi/04--csv.ipynb)"
   ]
  },
  {
   "cell_type": "markdown",
   "metadata": {},
   "source": [
    "## CSV\n",
    "\n",
    "- excel\n",
    "- google spreadsheet\n",
    "- open office\n",
    "\n",
    "1. jak wyglada\n",
    "2. jak się otwiera\n",
    "\n",
    "### cechy\n",
    "\n",
    "- 1 linnia, opcjonalny nagłówek\n",
    "- plain text\n",
    "- każda linia jest atomowa\n",
    "- pola oddzielone separatorem\n",
    "- tylko dane, żadnych dodatkowych informacji, protokołów, instrukcji, bloków, typowania (!;\\t,)\n",
    "- nie potrzebuje edytora\n",
    "- nie potrzebuje excela\n",
    "- istotne kodowanie tekstu i ``escapowanie`` znaków specjalnych\n"
   ]
  },
  {
   "cell_type": "code",
   "execution_count": null,
   "metadata": {},
   "outputs": [
    {
     "name": "stdout",
     "output_type": "stream",
     "text": [
      "--2023-03-13 13:57:19--  https://s3.eu-central-1.amazonaws.com/jkan.pl/data-science/uek/otomoto.csv\n",
      "Resolving s3.eu-central-1.amazonaws.com (s3.eu-central-1.amazonaws.com)... 52.219.170.109\n",
      "Connecting to s3.eu-central-1.amazonaws.com (s3.eu-central-1.amazonaws.com)|52.219.170.109|:443... connected.\n",
      "HTTP request sent, awaiting response... 200 OK\n",
      "Length: 20920699 (20M) [text/csv]\n",
      "Saving to: ‘var/otomoto.csv’\n",
      "\n",
      "var/otomoto.csv     100%[===================>]  19.95M  33.1MB/s    in 0.6s    \n",
      "\n",
      "2023-03-13 13:57:20 (33.1 MB/s) - ‘var/otomoto.csv’ saved [20920699/20920699]\n",
      "\n"
     ]
    }
   ],
   "source": [
    "!wget https://s3.eu-central-1.amazonaws.com/jkan.pl/data-science/uek/otomoto.csv -O var/otomoto.csv"
   ]
  },
  {
   "cell_type": "code",
   "execution_count": null,
   "metadata": {},
   "outputs": [
    {
     "name": "stdout",
     "output_type": "stream",
     "text": [
      "it tooks {} secconds 0.06066584587097168\n"
     ]
    },
    {
     "data": {
      "text/plain": [
       "['\"id\"',\n",
       " '\"url\"',\n",
       " '\"Faktura VAT\"',\n",
       " '\"Marka pojazdu\"',\n",
       " '\"Model pojazdu\"',\n",
       " '\"Kategoria\"',\n",
       " '\"Pojemność skokowa\"',\n",
       " '\"Liczba miejsc\"',\n",
       " '\"Zarejestrowany w Polsce\"',\n",
       " '\"Wersja\"',\n",
       " '\"Typ\"',\n",
       " '\"Rok produkcji\"',\n",
       " '\"Serwisowany w ASO\"',\n",
       " '\"Leasing\"',\n",
       " '\"VIN\"',\n",
       " '\"Homologacja ciężarowa\"',\n",
       " '\"VAT marża\"',\n",
       " '\"Pierwszy właściciel\"',\n",
       " '\"Filtr cząstek stałych\"',\n",
       " '\"Rodzaj paliwa\"',\n",
       " '\"Emisja CO2\"',\n",
       " '\"Kraj pochodzenia\"',\n",
       " '\"Numer rejestracyjny pojazdu\"',\n",
       " '\"Bezwypadkowy\"',\n",
       " '\"Stan\"',\n",
       " '\"Pierwsza rejestracja\"',\n",
       " '\"title\"',\n",
       " '\"price\"',\n",
       " '\"Skrzynia biegów\"',\n",
       " '\"Perłowy\"',\n",
       " '\"Kierownica po prawej (Anglik)\"',\n",
       " '\"Liczba drzwi\"',\n",
       " '\"Metalik\"',\n",
       " '\"Przebieg\"',\n",
       " '\"Akryl (niemetalizowany)\"',\n",
       " '\"Możliwość finansowania\"',\n",
       " '\"Uszkodzony\"',\n",
       " '\"Oferta od\"',\n",
       " '\"Kod Silnika\"',\n",
       " '\"Kolor\"',\n",
       " '\"Napęd\"',\n",
       " '\"Moc\"\\n']"
      ]
     },
     "execution_count": null,
     "metadata": {},
     "output_type": "execute_result"
    }
   ],
   "source": [
    "import os\n",
    "from time import time\n",
    "\n",
    "def parse_csv_file(datafile):\n",
    "    data = []\n",
    "    with open(datafile) as f:\n",
    "        for line in f:\n",
    "            data.append(line)\n",
    "    return data\n",
    "\n",
    "start = time()\n",
    "data = parse_csv_file('var/otomoto.csv')\n",
    "end = time()\n",
    "\n",
    "time_taken = end - start\n",
    "\n",
    "print(\"it tooks {} secconds\", time_taken)\n",
    "data[0].split(';')"
   ]
  },
  {
   "cell_type": "code",
   "execution_count": null,
   "metadata": {},
   "outputs": [
    {
     "name": "stdout",
     "output_type": "stream",
     "text": [
      "{'Akryl (niemetalizowany)': '',\n",
      " 'Bezwypadkowy': 'Tak',\n",
      " 'Emisja CO2': '261 g/km',\n",
      " 'Faktura VAT': 'Tak',\n",
      " 'Filtr cząstek stałych': 'Tak',\n",
      " 'Homologacja ciężarowa': '',\n",
      " 'Kategoria': 'Osobowe',\n",
      " 'Kierownica po prawej (Anglik)': '',\n",
      " 'Kod Silnika': 'G 350',\n",
      " 'Kolor': 'Szary',\n",
      " 'Kraj pochodzenia': 'Polska',\n",
      " 'Leasing': '',\n",
      " 'Liczba drzwi': '5',\n",
      " 'Liczba miejsc': '5',\n",
      " 'Marka pojazdu': 'Mercedes-Benz',\n",
      " 'Metalik': 'Tak',\n",
      " 'Moc': '245 KM',\n",
      " 'Model pojazdu': 'Klasa G',\n",
      " 'Możliwość finansowania': 'Tak',\n",
      " 'Napęd': '4x4 (stały)',\n",
      " 'Numer rejestracyjny pojazdu': 'DSR40090',\n",
      " 'Oferta od': 'Firmy',\n",
      " 'Perłowy': '',\n",
      " 'Pierwsza rejestracja': '',\n",
      " 'Pierwszy właściciel': 'Tak',\n",
      " 'Pojemność skokowa': '2 987 cm3',\n",
      " 'Przebieg': '52 904 km',\n",
      " 'Rodzaj paliwa': 'Diesel',\n",
      " 'Rok produkcji': '2016',\n",
      " 'Serwisowany w ASO': 'Tak',\n",
      " 'Skrzynia biegów': 'Automatyczna hydrauliczna (klasyczna)',\n",
      " 'Stan': 'Używane',\n",
      " 'Typ': 'SUV',\n",
      " 'Uszkodzony': '',\n",
      " 'VAT marża': '',\n",
      " 'VIN': 'WDB4633481X263455',\n",
      " 'Wersja': 'W463 (1992-)',\n",
      " 'Zarejestrowany w Polsce': 'Tak',\n",
      " 'id': '6034090022',\n",
      " 'price': '434900.0',\n",
      " 'title': 'Mercedes-Benz Klasa G W463',\n",
      " 'url': 'https://www.otomoto.pl/oferta/mercedes-benz-klasa-g-350d-pakiet-amg-designo-manufaktur-edition-ID6AmqsC.html'}\n"
     ]
    }
   ],
   "source": [
    "import os\n",
    "import pprint\n",
    "import csv\n",
    "\n",
    "def parse_csv(datafile):\n",
    "    data = []\n",
    "    with open(datafile, 'r') as f:\n",
    "        r = csv.DictReader(f, delimiter=\";\")\n",
    "        for line in r:\n",
    "            data.append(line)\n",
    "    return data\n",
    "\n",
    "data = parse_csv('var/otomoto.csv')\n",
    "pprint.pprint(data[1])"
   ]
  },
  {
   "cell_type": "markdown",
   "metadata": {},
   "source": [
    "Najpopularniejsza marka?"
   ]
  },
  {
   "cell_type": "code",
   "execution_count": null,
   "metadata": {},
   "outputs": [],
   "source": [
    "from collections import Counter"
   ]
  },
  {
   "cell_type": "code",
   "execution_count": null,
   "metadata": {},
   "outputs": [
    {
     "data": {
      "text/plain": [
       "dict"
      ]
     },
     "execution_count": null,
     "metadata": {},
     "output_type": "execute_result"
    }
   ],
   "source": [
    "type(data[0])"
   ]
  },
  {
   "cell_type": "code",
   "execution_count": null,
   "metadata": {},
   "outputs": [],
   "source": [
    "brands = (row.get('Marka pojazdu') for row in data)"
   ]
  },
  {
   "cell_type": "code",
   "execution_count": null,
   "metadata": {},
   "outputs": [
    {
     "data": {
      "text/plain": [
       "[('Volkswagen', 5598),\n",
       " ('Opel', 4361),\n",
       " ('BMW', 4254),\n",
       " ('Audi', 4016),\n",
       " ('Ford', 3643),\n",
       " ('Mercedes-Benz', 3080),\n",
       " ('Renault', 2685),\n",
       " ('Toyota', 2525),\n",
       " ('Škoda', 2370),\n",
       " ('Peugeot', 1906)]"
      ]
     },
     "execution_count": null,
     "metadata": {},
     "output_type": "execute_result"
    }
   ],
   "source": [
    "cnt = Counter(brands)\n",
    "cnt.most_common(10)"
   ]
  },
  {
   "cell_type": "markdown",
   "metadata": {},
   "source": [
    "### Popularny format wymiany danych\n",
    "Gotowa implementacja w wielu narzędziach"
   ]
  },
  {
   "cell_type": "code",
   "execution_count": null,
   "metadata": {},
   "outputs": [
    {
     "name": "stdout",
     "output_type": "stream",
     "text": [
      "Requirement already satisfied: pandas in /root/mambaforge/lib/python3.10/site-packages (1.5.3)\n",
      "Requirement already satisfied: matplotlib in /root/mambaforge/lib/python3.10/site-packages (3.6.3)\n",
      "Requirement already satisfied: python-dateutil>=2.8.1 in /root/mambaforge/lib/python3.10/site-packages (from pandas) (2.8.2)\n",
      "Requirement already satisfied: pytz>=2020.1 in /root/mambaforge/lib/python3.10/site-packages (from pandas) (2022.7.1)\n",
      "Requirement already satisfied: numpy>=1.21.0 in /root/mambaforge/lib/python3.10/site-packages (from pandas) (1.24.1)\n",
      "Requirement already satisfied: fonttools>=4.22.0 in /root/mambaforge/lib/python3.10/site-packages (from matplotlib) (4.38.0)\n",
      "Requirement already satisfied: kiwisolver>=1.0.1 in /root/mambaforge/lib/python3.10/site-packages (from matplotlib) (1.4.4)\n",
      "Requirement already satisfied: packaging>=20.0 in /root/mambaforge/lib/python3.10/site-packages (from matplotlib) (23.0)\n",
      "Requirement already satisfied: pyparsing>=2.2.1 in /root/mambaforge/lib/python3.10/site-packages (from matplotlib) (3.0.9)\n",
      "Requirement already satisfied: pillow>=6.2.0 in /root/mambaforge/lib/python3.10/site-packages (from matplotlib) (9.4.0)\n",
      "Requirement already satisfied: contourpy>=1.0.1 in /root/mambaforge/lib/python3.10/site-packages (from matplotlib) (1.0.7)\n",
      "Requirement already satisfied: cycler>=0.10 in /root/mambaforge/lib/python3.10/site-packages (from matplotlib) (0.11.0)\n",
      "Requirement already satisfied: six>=1.5 in /root/mambaforge/lib/python3.10/site-packages (from python-dateutil>=2.8.1->pandas) (1.16.0)\n",
      "\u001b[33mWARNING: Running pip as the 'root' user can result in broken permissions and conflicting behaviour with the system package manager. It is recommended to use a virtual environment instead: https://pip.pypa.io/warnings/venv\u001b[0m\u001b[33m\n",
      "\u001b[0mNote: you may need to restart the kernel to use updated packages.\n"
     ]
    }
   ],
   "source": [
    "pip install pandas matplotlib"
   ]
  },
  {
   "cell_type": "code",
   "execution_count": null,
   "metadata": {},
   "outputs": [],
   "source": [
    "import pandas as pd"
   ]
  },
  {
   "cell_type": "code",
   "execution_count": null,
   "metadata": {},
   "outputs": [],
   "source": [
    "X = pd.read_csv('var/otomoto.csv', delimiter=\";\")"
   ]
  },
  {
   "cell_type": "code",
   "execution_count": null,
   "metadata": {},
   "outputs": [
    {
     "data": {
      "text/html": [
       "<div>\n",
       "<style scoped>\n",
       "    .dataframe tbody tr th:only-of-type {\n",
       "        vertical-align: middle;\n",
       "    }\n",
       "\n",
       "    .dataframe tbody tr th {\n",
       "        vertical-align: top;\n",
       "    }\n",
       "\n",
       "    .dataframe thead th {\n",
       "        text-align: right;\n",
       "    }\n",
       "</style>\n",
       "<table border=\"1\" class=\"dataframe\">\n",
       "  <thead>\n",
       "    <tr style=\"text-align: right;\">\n",
       "      <th></th>\n",
       "      <th>id</th>\n",
       "      <th>url</th>\n",
       "      <th>Faktura VAT</th>\n",
       "      <th>Marka pojazdu</th>\n",
       "      <th>Model pojazdu</th>\n",
       "      <th>Kategoria</th>\n",
       "      <th>Pojemność skokowa</th>\n",
       "      <th>Liczba miejsc</th>\n",
       "      <th>Zarejestrowany w Polsce</th>\n",
       "      <th>Wersja</th>\n",
       "      <th>...</th>\n",
       "      <th>Metalik</th>\n",
       "      <th>Przebieg</th>\n",
       "      <th>Akryl (niemetalizowany)</th>\n",
       "      <th>Możliwość finansowania</th>\n",
       "      <th>Uszkodzony</th>\n",
       "      <th>Oferta od</th>\n",
       "      <th>Kod Silnika</th>\n",
       "      <th>Kolor</th>\n",
       "      <th>Napęd</th>\n",
       "      <th>Moc</th>\n",
       "    </tr>\n",
       "  </thead>\n",
       "  <tbody>\n",
       "    <tr>\n",
       "      <th>0</th>\n",
       "      <td>6039269187</td>\n",
       "      <td>https://www.otomoto.pl/oferta/renault-fluence-...</td>\n",
       "      <td>NaN</td>\n",
       "      <td>Renault</td>\n",
       "      <td>Fluence</td>\n",
       "      <td>Osobowe</td>\n",
       "      <td>1 600 cm3</td>\n",
       "      <td>5.0</td>\n",
       "      <td>NaN</td>\n",
       "      <td>NaN</td>\n",
       "      <td>...</td>\n",
       "      <td>NaN</td>\n",
       "      <td>172 000 km</td>\n",
       "      <td>Tak</td>\n",
       "      <td>NaN</td>\n",
       "      <td>NaN</td>\n",
       "      <td>Osoby prywatnej</td>\n",
       "      <td>NaN</td>\n",
       "      <td>Biały</td>\n",
       "      <td>Na przednie koła</td>\n",
       "      <td>110 KM</td>\n",
       "    </tr>\n",
       "    <tr>\n",
       "      <th>1</th>\n",
       "      <td>6034090022</td>\n",
       "      <td>https://www.otomoto.pl/oferta/mercedes-benz-kl...</td>\n",
       "      <td>Tak</td>\n",
       "      <td>Mercedes-Benz</td>\n",
       "      <td>Klasa G</td>\n",
       "      <td>Osobowe</td>\n",
       "      <td>2 987 cm3</td>\n",
       "      <td>5.0</td>\n",
       "      <td>Tak</td>\n",
       "      <td>W463 (1992-)</td>\n",
       "      <td>...</td>\n",
       "      <td>Tak</td>\n",
       "      <td>52 904 km</td>\n",
       "      <td>NaN</td>\n",
       "      <td>Tak</td>\n",
       "      <td>NaN</td>\n",
       "      <td>Firmy</td>\n",
       "      <td>G 350</td>\n",
       "      <td>Szary</td>\n",
       "      <td>4x4 (stały)</td>\n",
       "      <td>245 KM</td>\n",
       "    </tr>\n",
       "  </tbody>\n",
       "</table>\n",
       "<p>2 rows × 42 columns</p>\n",
       "</div>"
      ],
      "text/plain": [
       "           id                                                url Faktura VAT  \\\n",
       "0  6039269187  https://www.otomoto.pl/oferta/renault-fluence-...         NaN   \n",
       "1  6034090022  https://www.otomoto.pl/oferta/mercedes-benz-kl...         Tak   \n",
       "\n",
       "   Marka pojazdu Model pojazdu Kategoria Pojemność skokowa  Liczba miejsc  \\\n",
       "0        Renault       Fluence   Osobowe         1 600 cm3            5.0   \n",
       "1  Mercedes-Benz       Klasa G   Osobowe         2 987 cm3            5.0   \n",
       "\n",
       "  Zarejestrowany w Polsce        Wersja  ... Metalik    Przebieg  \\\n",
       "0                     NaN           NaN  ...     NaN  172 000 km   \n",
       "1                     Tak  W463 (1992-)  ...     Tak   52 904 km   \n",
       "\n",
       "  Akryl (niemetalizowany) Możliwość finansowania Uszkodzony        Oferta od  \\\n",
       "0                     Tak                    NaN        NaN  Osoby prywatnej   \n",
       "1                     NaN                    Tak        NaN            Firmy   \n",
       "\n",
       "  Kod Silnika  Kolor             Napęd     Moc  \n",
       "0         NaN  Biały  Na przednie koła  110 KM  \n",
       "1       G 350  Szary       4x4 (stały)  245 KM  \n",
       "\n",
       "[2 rows x 42 columns]"
      ]
     },
     "execution_count": null,
     "metadata": {},
     "output_type": "execute_result"
    }
   ],
   "source": [
    "X[:2]"
   ]
  },
  {
   "cell_type": "code",
   "execution_count": null,
   "metadata": {},
   "outputs": [
    {
     "data": {
      "text/html": [
       "<div>\n",
       "<style scoped>\n",
       "    .dataframe tbody tr th:only-of-type {\n",
       "        vertical-align: middle;\n",
       "    }\n",
       "\n",
       "    .dataframe tbody tr th {\n",
       "        vertical-align: top;\n",
       "    }\n",
       "\n",
       "    .dataframe thead th {\n",
       "        text-align: right;\n",
       "    }\n",
       "</style>\n",
       "<table border=\"1\" class=\"dataframe\">\n",
       "  <thead>\n",
       "    <tr style=\"text-align: right;\">\n",
       "      <th></th>\n",
       "      <th>id</th>\n",
       "      <th>Liczba miejsc</th>\n",
       "      <th>Rok produkcji</th>\n",
       "      <th>price</th>\n",
       "      <th>Liczba drzwi</th>\n",
       "    </tr>\n",
       "  </thead>\n",
       "  <tbody>\n",
       "    <tr>\n",
       "      <th>count</th>\n",
       "      <td>5.118600e+04</td>\n",
       "      <td>45424.000000</td>\n",
       "      <td>50716.000000</td>\n",
       "      <td>5.118500e+04</td>\n",
       "      <td>45830.000000</td>\n",
       "    </tr>\n",
       "    <tr>\n",
       "      <th>mean</th>\n",
       "      <td>6.030423e+09</td>\n",
       "      <td>5.042731</td>\n",
       "      <td>2010.018791</td>\n",
       "      <td>5.672981e+04</td>\n",
       "      <td>4.613965</td>\n",
       "    </tr>\n",
       "    <tr>\n",
       "      <th>std</th>\n",
       "      <td>6.411894e+07</td>\n",
       "      <td>0.731388</td>\n",
       "      <td>6.263675</td>\n",
       "      <td>8.480505e+04</td>\n",
       "      <td>0.797866</td>\n",
       "    </tr>\n",
       "    <tr>\n",
       "      <th>min</th>\n",
       "      <td>4.019794e+09</td>\n",
       "      <td>1.000000</td>\n",
       "      <td>1928.000000</td>\n",
       "      <td>0.000000e+00</td>\n",
       "      <td>1.000000</td>\n",
       "    </tr>\n",
       "    <tr>\n",
       "      <th>25%</th>\n",
       "      <td>6.028104e+09</td>\n",
       "      <td>5.000000</td>\n",
       "      <td>2006.000000</td>\n",
       "      <td>1.470000e+04</td>\n",
       "      <td>4.000000</td>\n",
       "    </tr>\n",
       "    <tr>\n",
       "      <th>50%</th>\n",
       "      <td>6.035956e+09</td>\n",
       "      <td>5.000000</td>\n",
       "      <td>2010.000000</td>\n",
       "      <td>2.980000e+04</td>\n",
       "      <td>5.000000</td>\n",
       "    </tr>\n",
       "    <tr>\n",
       "      <th>75%</th>\n",
       "      <td>6.037921e+09</td>\n",
       "      <td>5.000000</td>\n",
       "      <td>2015.000000</td>\n",
       "      <td>6.499000e+04</td>\n",
       "      <td>5.000000</td>\n",
       "    </tr>\n",
       "    <tr>\n",
       "      <th>max</th>\n",
       "      <td>6.039270e+09</td>\n",
       "      <td>9.000000</td>\n",
       "      <td>2018.000000</td>\n",
       "      <td>4.750000e+06</td>\n",
       "      <td>55.000000</td>\n",
       "    </tr>\n",
       "  </tbody>\n",
       "</table>\n",
       "</div>"
      ],
      "text/plain": [
       "                 id  Liczba miejsc  Rok produkcji         price  Liczba drzwi\n",
       "count  5.118600e+04   45424.000000   50716.000000  5.118500e+04  45830.000000\n",
       "mean   6.030423e+09       5.042731    2010.018791  5.672981e+04      4.613965\n",
       "std    6.411894e+07       0.731388       6.263675  8.480505e+04      0.797866\n",
       "min    4.019794e+09       1.000000    1928.000000  0.000000e+00      1.000000\n",
       "25%    6.028104e+09       5.000000    2006.000000  1.470000e+04      4.000000\n",
       "50%    6.035956e+09       5.000000    2010.000000  2.980000e+04      5.000000\n",
       "75%    6.037921e+09       5.000000    2015.000000  6.499000e+04      5.000000\n",
       "max    6.039270e+09       9.000000    2018.000000  4.750000e+06     55.000000"
      ]
     },
     "execution_count": null,
     "metadata": {},
     "output_type": "execute_result"
    }
   ],
   "source": [
    "X.describe()"
   ]
  },
  {
   "cell_type": "code",
   "execution_count": null,
   "metadata": {},
   "outputs": [
    {
     "data": {
      "text/plain": [
       "id                               51186\n",
       "url                              51186\n",
       "Faktura VAT                      15868\n",
       "Marka pojazdu                    50716\n",
       "Model pojazdu                    50716\n",
       "Kategoria                        50718\n",
       "Pojemność skokowa                48373\n",
       "Liczba miejsc                    45424\n",
       "Zarejestrowany w Polsce          24823\n",
       "Wersja                           38713\n",
       "Typ                              50716\n",
       "Rok produkcji                    50716\n",
       "Serwisowany w ASO                24407\n",
       "Leasing                           7549\n",
       "VIN                              12952\n",
       "Homologacja ciężarowa              376\n",
       "VAT marża                        15192\n",
       "Pierwszy właściciel              22416\n",
       "Filtr cząstek stałych             3277\n",
       "Rodzaj paliwa                    50716\n",
       "Emisja CO2                        1190\n",
       "Kraj pochodzenia                 34956\n",
       "Numer rejestracyjny pojazdu       3063\n",
       "Bezwypadkowy                     32514\n",
       "Stan                             50718\n",
       "Pierwsza rejestracja             19204\n",
       "title                            50725\n",
       "price                            51185\n",
       "Skrzynia biegów                  48243\n",
       "Perłowy                           5435\n",
       "Kierownica po prawej (Anglik)      219\n",
       "Liczba drzwi                     45830\n",
       "Metalik                          34479\n",
       "Przebieg                         50610\n",
       "Akryl (niemetalizowany)           1905\n",
       "Możliwość finansowania           19522\n",
       "Uszkodzony                        1586\n",
       "Oferta od                        50718\n",
       "Kod Silnika                       5814\n",
       "Kolor                            50716\n",
       "Napęd                            43551\n",
       "Moc                              46822\n",
       "dtype: int64"
      ]
     },
     "execution_count": null,
     "metadata": {},
     "output_type": "execute_result"
    }
   ],
   "source": [
    "X.count()"
   ]
  },
  {
   "cell_type": "code",
   "execution_count": null,
   "metadata": {},
   "outputs": [],
   "source": [
    "by_brand = X.groupby(['Marka pojazdu']).count()"
   ]
  },
  {
   "cell_type": "code",
   "execution_count": null,
   "metadata": {},
   "outputs": [],
   "source": [
    "by_brand = (\n",
    "    X[['id', 'Marka pojazdu']]\n",
    "        .groupby(['Marka pojazdu'])\n",
    "        .agg('count')\n",
    "        .rename(columns={'id': 'adv_count'})\n",
    ")"
   ]
  },
  {
   "cell_type": "code",
   "execution_count": null,
   "metadata": {},
   "outputs": [],
   "source": [
    "by_brand_sorted = (by_brand\n",
    "     .sort_values(by='adv_count', ascending=False))"
   ]
  },
  {
   "cell_type": "code",
   "execution_count": null,
   "metadata": {},
   "outputs": [
    {
     "data": {
      "text/plain": [
       "<AxesSubplot: xlabel='Marka pojazdu'>"
      ]
     },
     "execution_count": null,
     "metadata": {},
     "output_type": "execute_result"
    },
    {
     "data": {
      "image/png": "[encoded data removed]",
      "text/plain": [
       "<Figure size 640x480 with 1 Axes>"
      ]
     },
     "metadata": {},
     "output_type": "display_data"
    }
   ],
   "source": [
    "by_brand_sorted[:20].plot.bar()"
   ]
  },
  {
   "cell_type": "markdown",
   "metadata": {},
   "source": [
    "# Zadanie\n",
    "  Policz średnią, medianę, odchylenie standardowe ceny względem marek samochodów\n",
    "  Policz średnią, medianę, odchylenie standardowe przebiegu względem marek samochodów"
   ]
  },
  {
   "cell_type": "code",
   "execution_count": null,
   "metadata": {},
   "outputs": [
    {
     "data": {
      "text/plain": [
       "Index(['id', 'url', 'Faktura VAT', 'Marka pojazdu', 'Model pojazdu',\n",
       "       'Kategoria', 'Pojemność skokowa', 'Liczba miejsc',\n",
       "       'Zarejestrowany w Polsce', 'Wersja', 'Typ', 'Rok produkcji',\n",
       "       'Serwisowany w ASO', 'Leasing', 'VIN', 'Homologacja ciężarowa',\n",
       "       'VAT marża', 'Pierwszy właściciel', 'Filtr cząstek stałych',\n",
       "       'Rodzaj paliwa', 'Emisja CO2', 'Kraj pochodzenia',\n",
       "       'Numer rejestracyjny pojazdu', 'Bezwypadkowy', 'Stan',\n",
       "       'Pierwsza rejestracja', 'title', 'price', 'Skrzynia biegów', 'Perłowy',\n",
       "       'Kierownica po prawej (Anglik)', 'Liczba drzwi', 'Metalik', 'Przebieg',\n",
       "       'Akryl (niemetalizowany)', 'Możliwość finansowania', 'Uszkodzony',\n",
       "       'Oferta od', 'Kod Silnika', 'Kolor', 'Napęd', 'Moc'],\n",
       "      dtype='object')"
      ]
     },
     "execution_count": null,
     "metadata": {},
     "output_type": "execute_result"
    }
   ],
   "source": [
    "X.columns"
   ]
  },
  {
   "cell_type": "code",
   "execution_count": null,
   "metadata": {},
   "outputs": [
    {
     "data": {
      "text/plain": [
       "((582.9425287356322, 26.0, 1161.5191171260785),\n",
       " (581.7241379310345, 26.0, 1158.4804872307113))"
      ]
     },
     "execution_count": null,
     "metadata": {},
     "output_type": "execute_result"
    }
   ],
   "source": [
    "by_b = X.groupby(['Marka pojazdu']).count()\n",
    "# Cena\n",
    "by_c = by_b['price'].mean(),by_b['price'].median(),by_b['price'].std()\n",
    "# Przebieg\n",
    "by_p = by_b['Przebieg'].mean(),by_b['Przebieg'].median(),by_b['Przebieg'].std()\n",
    "by_c,by_p"
   ]
  }
 ],
 "metadata": {
  "kernelspec": {
   "display_name": "Python 3 (ipykernel)",
   "language": "python",
   "name": "python3"
  }
 },
 "nbformat": 4,
 "nbformat_minor": 2
}
