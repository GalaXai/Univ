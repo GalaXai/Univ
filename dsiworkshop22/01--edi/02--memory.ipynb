{
 "cells": [
  {
   "cell_type": "markdown",
   "metadata": {},
   "source": [
    "[![Open In Colab](https://colab.research.google.com/assets/colab-badge.svg)](https://githubtocolab.com/jkanclerz/data-science-workshop-2022/blob/main/01--edi/02--memory.ipynb)"
   ]
  },
  {
   "cell_type": "markdown",
   "metadata": {},
   "source": [
    "## Zarządzanie pamięcią\n",
    "\n",
    "``Taniej jest kupić większy serwer niż zoptymalizować zużycie pamięci``\n",
    "\n",
    "*Autor nieznany*"
   ]
  },
  {
   "cell_type": "code",
   "execution_count": null,
   "metadata": {},
   "outputs": [
    {
     "name": "stdout",
     "output_type": "stream",
     "text": [
      "Requirement already satisfied: ipython-memory-usage in /root/mambaforge/lib/python3.10/site-packages (1.7)\n",
      "Requirement already satisfied: memory_profiler in /root/mambaforge/lib/python3.10/site-packages (0.61.0)\n",
      "Requirement already satisfied: IPython>=2.1 in /root/mambaforge/lib/python3.10/site-packages (from ipython-memory-usage) (8.9.0)\n",
      "Requirement already satisfied: psutil in /root/mambaforge/lib/python3.10/site-packages (from memory_profiler) (5.9.4)\n",
      "Requirement already satisfied: stack-data in /root/mambaforge/lib/python3.10/site-packages (from IPython>=2.1->ipython-memory-usage) (0.6.2)\n",
      "Requirement already satisfied: pexpect>4.3 in /root/mambaforge/lib/python3.10/site-packages (from IPython>=2.1->ipython-memory-usage) (4.8.0)\n",
      "Requirement already satisfied: traitlets>=5 in /root/mambaforge/lib/python3.10/site-packages (from IPython>=2.1->ipython-memory-usage) (5.8.1)\n",
      "Requirement already satisfied: matplotlib-inline in /root/mambaforge/lib/python3.10/site-packages (from IPython>=2.1->ipython-memory-usage) (0.1.6)\n",
      "Requirement already satisfied: prompt-toolkit<3.1.0,>=3.0.30 in /root/mambaforge/lib/python3.10/site-packages (from IPython>=2.1->ipython-memory-usage) (3.0.36)\n",
      "Requirement already satisfied: decorator in /root/mambaforge/lib/python3.10/site-packages (from IPython>=2.1->ipython-memory-usage) (5.1.1)\n",
      "Requirement already satisfied: jedi>=0.16 in /root/mambaforge/lib/python3.10/site-packages (from IPython>=2.1->ipython-memory-usage) (0.18.2)\n",
      "Requirement already satisfied: backcall in /root/mambaforge/lib/python3.10/site-packages (from IPython>=2.1->ipython-memory-usage) (0.2.0)\n",
      "Requirement already satisfied: pickleshare in /root/mambaforge/lib/python3.10/site-packages (from IPython>=2.1->ipython-memory-usage) (0.7.5)\n",
      "Requirement already satisfied: pygments>=2.4.0 in /root/mambaforge/lib/python3.10/site-packages (from IPython>=2.1->ipython-memory-usage) (2.14.0)\n",
      "Requirement already satisfied: parso<0.9.0,>=0.8.0 in /root/mambaforge/lib/python3.10/site-packages (from jedi>=0.16->IPython>=2.1->ipython-memory-usage) (0.8.3)\n",
      "Requirement already satisfied: ptyprocess>=0.5 in /root/mambaforge/lib/python3.10/site-packages (from pexpect>4.3->IPython>=2.1->ipython-memory-usage) (0.7.0)\n",
      "Requirement already satisfied: wcwidth in /root/mambaforge/lib/python3.10/site-packages (from prompt-toolkit<3.1.0,>=3.0.30->IPython>=2.1->ipython-memory-usage) (0.2.6)\n",
      "Requirement already satisfied: pure-eval in /root/mambaforge/lib/python3.10/site-packages (from stack-data->IPython>=2.1->ipython-memory-usage) (0.2.2)\n",
      "Requirement already satisfied: executing>=1.2.0 in /root/mambaforge/lib/python3.10/site-packages (from stack-data->IPython>=2.1->ipython-memory-usage) (1.2.0)\n",
      "Requirement already satisfied: asttokens>=2.1.0 in /root/mambaforge/lib/python3.10/site-packages (from stack-data->IPython>=2.1->ipython-memory-usage) (2.2.1)\n",
      "Requirement already satisfied: six in /root/mambaforge/lib/python3.10/site-packages (from asttokens>=2.1.0->stack-data->IPython>=2.1->ipython-memory-usage) (1.16.0)\n",
      "\u001b[33mWARNING: Running pip as the 'root' user can result in broken permissions and conflicting behaviour with the system package manager. It is recommended to use a virtual environment instead: https://pip.pypa.io/warnings/venv\u001b[0m\u001b[33m\n",
      "\u001b[0mNote: you may need to restart the kernel to use updated packages.\n"
     ]
    }
   ],
   "source": [
    "pip install ipython-memory-usage memory_profiler"
   ]
  },
  {
   "cell_type": "code",
   "execution_count": null,
   "metadata": {},
   "outputs": [],
   "source": [
    "%load_ext memory_profiler"
   ]
  },
  {
   "cell_type": "code",
   "execution_count": null,
   "metadata": {},
   "outputs": [],
   "source": [
    "x = 2"
   ]
  },
  {
   "cell_type": "code",
   "execution_count": null,
   "metadata": {},
   "outputs": [
    {
     "data": {
      "text/plain": [
       "'memory profile enabled'"
      ]
     },
     "execution_count": null,
     "metadata": {},
     "output_type": "execute_result"
    },
    {
     "name": "stdout",
     "output_type": "stream",
     "text": [
      "In [4] used 0.0078 MiB RAM in 0.10s, peaked 0.00 MiB above current, total RAM usage 70.55 MiB\n"
     ]
    }
   ],
   "source": [
    "import ipython_memory_usage \n",
    "%ipython_memory_usage_start "
   ]
  },
  {
   "cell_type": "code",
   "execution_count": null,
   "metadata": {},
   "outputs": [
    {
     "name": "stdout",
     "output_type": "stream",
     "text": [
      "CPU times: user 0 ns, sys: 2 µs, total: 2 µs\n",
      "Wall time: 5.25 µs\n",
      "Hello world\n",
      "In [5] used 0.0273 MiB RAM in 0.10s, peaked 0.00 MiB above current, total RAM usage 70.58 MiB\n"
     ]
    }
   ],
   "source": [
    "%time\n",
    "print(\"Hello world\")"
   ]
  },
  {
   "cell_type": "code",
   "execution_count": null,
   "metadata": {},
   "outputs": [
    {
     "name": "stdout",
     "output_type": "stream",
     "text": [
      "hello world\n",
      "In [6] used 0.0820 MiB RAM in 0.10s, peaked 0.00 MiB above current, total RAM usage 70.66 MiB\n"
     ]
    }
   ],
   "source": [
    "%timeit\n",
    "print(\"hello world\")"
   ]
  },
  {
   "cell_type": "code",
   "execution_count": null,
   "metadata": {},
   "outputs": [
    {
     "name": "stdout",
     "output_type": "stream",
     "text": [
      "647 ns ± 15.9 ns per loop (mean ± std. dev. of 7 runs, 1,000,000 loops each)\n",
      "In [7] used 0.1641 MiB RAM in 5.35s, peaked 0.00 MiB above current, total RAM usage 70.82 MiB\n"
     ]
    }
   ],
   "source": [
    "%timeit sum(range(100))"
   ]
  },
  {
   "cell_type": "code",
   "execution_count": null,
   "metadata": {},
   "outputs": [
    {
     "name": "stdout",
     "output_type": "stream",
     "text": [
      "1.2 µs ± 18.8 ns per loop (mean ± std. dev. of 7 runs, 1,000,000 loops each)\n",
      "In [8] used 0.0000 MiB RAM in 9.83s, peaked 0.00 MiB above current, total RAM usage 70.82 MiB\n"
     ]
    }
   ],
   "source": [
    "%timeit sum(list(range(100)))"
   ]
  },
  {
   "cell_type": "code",
   "execution_count": null,
   "metadata": {},
   "outputs": [
    {
     "name": "stdout",
     "output_type": "stream",
     "text": [
      "peak memory: 70.95 MiB, increment: 0.06 MiB\n",
      "In [9] used 0.1602 MiB RAM in 0.24s, peaked 0.00 MiB above current, total RAM usage 70.98 MiB\n"
     ]
    }
   ],
   "source": [
    "%memit\n",
    "x = 99999 * 99999\n",
    "y = x * x * x"
   ]
  },
  {
   "cell_type": "code",
   "execution_count": null,
   "metadata": {},
   "outputs": [
    {
     "name": "stdout",
     "output_type": "stream",
     "text": [
      "peak memory: 73.07 MiB, increment: 0.06 MiB\n",
      "In [10] used 2.0820 MiB RAM in 0.24s, peaked 0.00 MiB above current, total RAM usage 73.07 MiB\n"
     ]
    }
   ],
   "source": [
    "%memit\n",
    "x = 2**64 "
   ]
  },
  {
   "cell_type": "code",
   "execution_count": null,
   "metadata": {},
   "outputs": [
    {
     "name": "stdout",
     "output_type": "stream",
     "text": [
      "In [11] used 0.0664 MiB RAM in 0.10s, peaked 0.00 MiB above current, total RAM usage 73.13 MiB\n"
     ]
    }
   ],
   "source": [
    "x = 2"
   ]
  },
  {
   "cell_type": "code",
   "execution_count": null,
   "metadata": {},
   "outputs": [
    {
     "name": "stdout",
     "output_type": "stream",
     "text": [
      "In [12] used 0.0352 MiB RAM in 0.10s, peaked 0.00 MiB above current, total RAM usage 73.17 MiB\n"
     ]
    }
   ],
   "source": [
    "x = range(1, 100000)\n",
    "x = ((x, \"a\" * x) for x in x)"
   ]
  },
  {
   "cell_type": "code",
   "execution_count": null,
   "metadata": {},
   "outputs": [
    {
     "name": "stdout",
     "output_type": "stream",
     "text": [
      "In [13] used 4784.2422 MiB RAM in 2.04s, peaked 0.00 MiB above current, total RAM usage 4857.41 MiB\n"
     ]
    }
   ],
   "source": [
    "loaded = list(x)"
   ]
  },
  {
   "cell_type": "markdown",
   "metadata": {},
   "source": [
    "## Lazy vs Eager Evaluation"
   ]
  },
  {
   "cell_type": "markdown",
   "metadata": {},
   "source": [
    "### Podejście leniwe, przykład generator\n",
    "Wartości zostaną zwrócone dopiero gdy będą potrzebne"
   ]
  },
  {
   "cell_type": "code",
   "execution_count": null,
   "metadata": {},
   "outputs": [
    {
     "name": "stdout",
     "output_type": "stream",
     "text": [
      "In [14] used 0.3516 MiB RAM in 0.10s, peaked 0.00 MiB above current, total RAM usage 4857.76 MiB\n"
     ]
    }
   ],
   "source": [
    "X_as_gen = ((i, \"a\" * i) for i in range(1, 100000))"
   ]
  },
  {
   "cell_type": "code",
   "execution_count": null,
   "metadata": {},
   "outputs": [
    {
     "data": {
      "text/plain": [
       "((1, 'a'), (2, 'aa'))"
      ]
     },
     "execution_count": null,
     "metadata": {},
     "output_type": "execute_result"
    },
    {
     "name": "stdout",
     "output_type": "stream",
     "text": [
      "In [15] used 0.0234 MiB RAM in 0.10s, peaked 0.00 MiB above current, total RAM usage 4857.79 MiB\n"
     ]
    }
   ],
   "source": [
    "next(X_as_gen), next(X_as_gen)"
   ]
  },
  {
   "cell_type": "markdown",
   "metadata": {},
   "source": [
    "### Podejście chciwe, przykład lista\n",
    "Wszystkie wartości zostają wygenerowane do pamięci"
   ]
  },
  {
   "cell_type": "code",
   "execution_count": null,
   "metadata": {},
   "outputs": [
    {
     "data": {
      "text/plain": [
       "0"
      ]
     },
     "execution_count": null,
     "metadata": {},
     "output_type": "execute_result"
    },
    {
     "name": "stdout",
     "output_type": "stream",
     "text": [
      "In [16] used -4770.0273 MiB RAM in 0.26s, peaked 4770.03 MiB above current, total RAM usage 87.76 MiB\n"
     ]
    }
   ],
   "source": [
    "# While running on 16gb pc we have to empty the memory\n",
    "import gc\n",
    "del loaded\n",
    "del X_as_gen\n",
    "gc.collect()"
   ]
  },
  {
   "cell_type": "code",
   "execution_count": null,
   "metadata": {},
   "outputs": [
    {
     "name": "stdout",
     "output_type": "stream",
     "text": [
      "In [17] used 4769.2148 MiB RAM in 1.45s, peaked 0.00 MiB above current, total RAM usage 4856.97 MiB\n"
     ]
    }
   ],
   "source": [
    "X_as_list = [(i, \"a\" * i) for i in range(1, 100000)]"
   ]
  },
  {
   "cell_type": "code",
   "execution_count": null,
   "metadata": {},
   "outputs": [
    {
     "data": {
      "text/plain": [
       "99999"
      ]
     },
     "execution_count": null,
     "metadata": {},
     "output_type": "execute_result"
    },
    {
     "name": "stdout",
     "output_type": "stream",
     "text": [
      "In [18] used 0.0078 MiB RAM in 0.10s, peaked 0.00 MiB above current, total RAM usage 4856.98 MiB\n"
     ]
    }
   ],
   "source": [
    "len(X_as_list)"
   ]
  },
  {
   "cell_type": "code",
   "execution_count": null,
   "metadata": {},
   "outputs": [
    {
     "data": {
      "text/plain": [
       "((2, 'aa'), (6, 'aaaaaa'))"
      ]
     },
     "execution_count": null,
     "metadata": {},
     "output_type": "execute_result"
    },
    {
     "name": "stdout",
     "output_type": "stream",
     "text": [
      "In [19] used 0.0000 MiB RAM in 0.10s, peaked 0.00 MiB above current, total RAM usage 4856.98 MiB\n"
     ]
    }
   ],
   "source": [
    "X_as_list[1], X_as_list[5]"
   ]
  },
  {
   "cell_type": "markdown",
   "metadata": {},
   "source": [
    "## Zadanie\n",
    "Pobierz i wyświetl w konsoli 1 dowcip o chacku norisie z poprzedniego zadania, oceń zużycie pamięci z wykrozystaniem %memit"
   ]
  },
  {
   "cell_type": "code",
   "execution_count": null,
   "metadata": {},
   "outputs": [
    {
     "name": "stdout",
     "output_type": "stream",
     "text": [
      "peak memory: 4865.14 MiB, increment: 0.01 MiB\n"
     ]
    },
    {
     "data": {
      "text/plain": [
       "'Chuck Norris invented walking in slow motion with explosions behind him.'"
      ]
     },
     "execution_count": null,
     "metadata": {},
     "output_type": "execute_result"
    },
    {
     "name": "stdout",
     "output_type": "stream",
     "text": [
      "In [21] used 3.8867 MiB RAM in 0.60s, peaked 0.00 MiB above current, total RAM usage 4866.25 MiB\n"
     ]
    }
   ],
   "source": [
    "## some python code\n",
    "import requests\n",
    "def get_joke():\n",
    "    return requests.get(\"https://api.chucknorris.io/jokes/random\").json()[\"value\"]\n",
    "\n",
    "%memit\n",
    "get_joke()\n"
   ]
  }
 ],
 "metadata": {
  "kernelspec": {
   "display_name": "Python 3 (ipykernel)",
   "language": "python",
   "name": "python3"
  }
 },
 "nbformat": 4,
 "nbformat_minor": 2
}
